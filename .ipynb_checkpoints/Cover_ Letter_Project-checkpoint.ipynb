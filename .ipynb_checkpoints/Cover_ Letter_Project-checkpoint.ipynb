{
 "cells": [
  {
   "cell_type": "markdown",
   "id": "amino-indian",
   "metadata": {},
   "source": [
    "# Automating Writing Cover Letters #\n",
    "\n",
    "## Find and Explore Data ##\n",
    "\n",
    "#### Exploring job postings from idealist.org ####"
   ]
  },
  {
   "cell_type": "code",
   "execution_count": 1,
   "id": "suspended-stationery",
   "metadata": {},
   "outputs": [],
   "source": [
    "##search results are dynamic, so I have to use selenium to extract urls for individual jobs\n",
    "\n",
    "from selenium import webdriver\n",
    "from selenium.webdriver.common.keys import Keys\n",
    "import pandas as pd"
   ]
  },
  {
   "cell_type": "code",
   "execution_count": 76,
   "id": "demographic-islam",
   "metadata": {},
   "outputs": [],
   "source": [
    "idealist_url = \"https://www.idealist.org/en/jobs?page=1&q=data&searchMode=true&sort=relevance\"\n",
    "\n",
    "driver = webdriver.Chrome(\"C:\\\\Users\\\\rache\\\\Downloads\\\\chromedriver_win32\\\\chromedriver.exe\")\n",
    "\n",
    "driver.get(idealist_url)\n",
    "\n",
    "## clear location data from search\n",
    "driver.find_element_by_xpath('//*[@id=\"layout-root\"]/div[1]/div[4]/div/div/div/div[2]/form/div[2]/div/button').click()"
   ]
  },
  {
   "cell_type": "markdown",
   "id": "informational-trader",
   "metadata": {},
   "source": [
    "Get all job URLs on first page"
   ]
  },
  {
   "cell_type": "code",
   "execution_count": 77,
   "id": "miniature-mississippi",
   "metadata": {},
   "outputs": [
    {
     "name": "stdout",
     "output_type": "stream",
     "text": [
      "#results > div > div > div.Box__BaseBox-sc-1wooqli-0.iuHlOF > div:nth-child(3) > div > div > div > div.Box__BaseBox-sc-1wooqli-0.gHQtLI > div.Box__BaseBox-sc-1wooqli-0.dLHINo.SearchHit__InfoBox-sc-25tu86-7.caleOh > div > h4 > a\n"
     ]
    }
   ],
   "source": [
    "css_selector_list = []\n",
    "\n",
    "nums = list(range(2, 22))\n",
    "  \n",
    "for num in nums:\n",
    "    item = '#results > div > div > div.Box__BaseBox-sc-1wooqli-0.iuHlOF > div:nth-child(' + str(num) + ') > div > div > div > div.Box__BaseBox-sc-1wooqli-0.gHQtLI > div.Box__BaseBox-sc-1wooqli-0.dLHINo.SearchHit__InfoBox-sc-25tu86-7.caleOh > div > h4 > a'\n",
    "    css_selector_list.append(item)\n",
    "    \n",
    "print(url_lists[1])"
   ]
  },
  {
   "cell_type": "code",
   "execution_count": 78,
   "id": "simple-omaha",
   "metadata": {},
   "outputs": [
    {
     "name": "stdout",
     "output_type": "stream",
     "text": [
      "['https://www.idealist.org/en/nonprofit-job/d221681ca0b945d7b4cf8c4aac8bea5c-data-strategy-manager-first-5-la-los-angeles', 'https://www.idealist.org/en/nonprofit-job/bda0b2aa6d9740319265b7c3f6132731-data-strategy-specialist-first-5-la-los-angeles', 'https://www.idealist.org/en/nonprofit-job/424fc42bab2c46e7ac77403aff7857c3-data-reporter-spectrum-simons-foundation-new-york', 'https://www.idealist.org/en/consultant-job/243d792eee92437a88061630216f13ea-database-administrator-ii-aws-roi-solutions-inc-medford', 'https://www.idealist.org/en/nonprofit-job/7cfcfb10e64e4c0a9190d7f36aa39589-data-manager-south-sudan-guinea-worm-eradication-program-ssgwep-the-carter-center-guinea-worm-eradication-program-juba', 'https://www.idealist.org/en/nonprofit-job/d41674987a0144af94cac0ada246d834-database-administrator-housing-alliance-delaware-wilmington', 'https://www.idealist.org/en/nonprofit-job/5f0afbe0a876453cb05f37be4a3d0ed3-data-analyst-generic-washington', 'https://www.idealist.org/en/nonprofit-job/95f9f5797e764d34bb589fe014365b08-data-analyst-research-knowledge-fountain-house-inc-new-york', 'https://www.idealist.org/en/nonprofit-job/2288d26946204a2ebda866b37b35f9e9-data-management-analyst-ignite-formerly-teen-living-programs-chicago', 'https://www.idealist.org/en/nonprofit-job/aed16b7264e649e889cc6708c2704c1a-data-engineer-usa-for-unhcr-new-york', 'https://www.idealist.org/en/nonprofit-job/828fdfeaee84458d8c7e3e2fe1d2e0a6-database-developer-american-speech-language-hearing-association-rockville', 'https://www.idealist.org/en/nonprofit-job/81904b6374174a4197c560a3604e939b-database-administrator-food-lifeline-seattle', 'https://www.idealist.org/en/nonprofit-job/854f54ac6663442b9574d92e444e05c3-data-and-research-analyst-naacp-legal-defense-and-educational-fund-inc-washington', 'https://www.idealist.org/en/nonprofit-job/093c99060130448ab2dfdab9f29bcca1-data-and-research-analyst-naacp-legal-defense-and-educational-fund-inc-new-york', 'https://www.idealist.org/en/nonprofit-job/8953e3456c984d7696baec96b078075f-data-analyst-data-research-analyst-enveritas-new-york', 'https://www.idealist.org/en/nonprofit-job/9c6cc6b0b1284eb0a678d27b7dd7c03c-data-analyst-c4j-mixed-methods-the-center-for-policing-equity-los-angeles', 'https://www.idealist.org/en/nonprofit-job/da7d22b09d00445fb6f0c0aa66b14ba9-data-science-developer-the-center-for-policing-equity-new-york', 'https://www.idealist.org/en/nonprofit-job/fe4bd4f134f649e8a1536bbdc72775c4-data-systems-and-analytics-manager-center-for-care-innovations-oakland']\n"
     ]
    }
   ],
   "source": [
    "data_science_urls = []\n",
    "\n",
    "for elem in css_selector_list:\n",
    "    elements = driver.find_elements_by_css_selector(elem)\n",
    "    for element in elements:\n",
    "        data_science_urls.append(element.get_attribute(\"href\"))\n",
    "\n",
    "print(data_science_urls)\n",
    "#print(idealist_df)"
   ]
  },
  {
   "cell_type": "markdown",
   "id": "noble-nomination",
   "metadata": {},
   "source": [
    "repeat for next 5 pages to get 90 results covering approx 1 month"
   ]
  },
  {
   "cell_type": "code",
   "execution_count": null,
   "id": "powered-hungary",
   "metadata": {},
   "outputs": [],
   "source": [
    "idealist_page_2_to_5 = ['https://www.idealist.org/en/jobs?page=2&q=data&searchMode=true&sort=relevance', \n",
    "                        'https://www.idealist.org/en/jobs?page=3&q=data&searchMode=true&sort=relevance',\n",
    "                        'https://www.idealist.org/en/jobs?page=4&q=data&searchMode=true&sort=relevance',\n",
    "                        'https://www.idealist.org/en/jobs?page=5&q=data&searchMode=true&sort=relevance']\n",
    "\n",
    "driver = webdriver.Chrome(\"C:\\\\Users\\\\rache\\\\Downloads\\\\chromedriver_win32\\\\chromedriver.exe\")\n",
    "\n",
    "for page in idealist_page_2_to_5:\n",
    "    driver.get(page)\n",
    "    for elem in css_selector_list:\n",
    "        elements = driver.find_elements_by_css_selector(elem)\n",
    "        for element in elements:\n",
    "            data_science_urls.append(element.get_attribute(\"href\"))\n",
    "\n",
    "#print(data_science_urls)"
   ]
  },
  {
   "cell_type": "code",
   "execution_count": 84,
   "id": "filled-check",
   "metadata": {},
   "outputs": [
    {
     "name": "stdout",
     "output_type": "stream",
     "text": [
      "90\n"
     ]
    }
   ],
   "source": [
    "print(len(data_science_urls))"
   ]
  },
  {
   "cell_type": "markdown",
   "id": "hundred-grace",
   "metadata": {},
   "source": [
    "Get data from each url from data_science_urls into a dataframe"
   ]
  },
  {
   "cell_type": "code",
   "execution_count": 92,
   "id": "recovered-burning",
   "metadata": {},
   "outputs": [],
   "source": [
    "# each job posting is in a json within html, so I can use BeautifulSoup to extract job information\n",
    "import requests\n",
    "import json\n",
    "from bs4 import BeautifulSoup\n",
    "\n",
    "URL = 'https://www.idealist.org/en/nonprofit-job/d221681ca0b945d7b4cf8c4aac8bea5c-data-strategy-manager-first-5-la-los-angeles'\n",
    "page = requests.get(URL)\n",
    "soup = BeautifulSoup(page.content, 'html.parser')"
   ]
  },
  {
   "cell_type": "code",
   "execution_count": 110,
   "id": "collectible-moldova",
   "metadata": {},
   "outputs": [
    {
     "name": "stdout",
     "output_type": "stream",
     "text": [
      "{'@context': 'http://schema.org/', '@type': 'JobPosting', 'datePosted': '2021-04-29T22:44:55.930587', 'description': \"<p><strong>JOB SUMMARY </strong></p><p>Reporting to the Chief Data Officer for the Office of Data for Action (ODFA), the Data Strategy Manager is a strategic leadership role that supports First 5 LA’s commitment to be a high-impact organization that uses data strategically to achieve results for young children and families in Los Angeles County. ODFA’s work involves advancing an organization-wide data strategy, which articulates First 5 LA’s data priorities and the efforts to address those priorities, in order to drive system change efforts, measure progress, and optimize effectiveness. The Data Strategy Manager is responsible for content development, technical oversight and advancement of the overall Data Strategy as well as select projects that emanate from and support the Data Strategy. The Data Strategy Manager provides consultation and support to teams across the organization on measurement and data issues. The Data Strategy Manager also supervises and coaches ODFA staff.</p><p>The successful candidate will have technical expertise coupled with the ability to flexibly shift to accommodate real-world circumstances; will be a highly-motivated, self-starter; and have the leadership, communication and collaborative capabilities to cultivate a culture committed to connecting data with strategy and using data, learnings and insights for action.</p><p><strong>ESSENTIAL DUTIES &amp; RESPONSIBILITIES </strong></p><p>The Data Strategy Manager should demonstrate the adopted organizational values of collaboration, integrity, learning, and diversity, equity and inclusion in the execution of their key areas of responsibility:</p><p><strong>Key Areas of Responsibility: </strong></p><p>§\\xa0Organization-wide data strategy</p><p>§\\xa0Thought leadership and promotion of best practices in measurement, evaluation and research</p><p>§\\xa0Relationship building with internal and external stakeholders</p><p>§\\xa0Staff supervision and talent development</p><p><strong>Essential Duties: </strong></p><p><strong>Organization-Wide Data Strategy </strong></p><p>§\\xa0Supports the development, implementation and refinement of the organization-wide data strategy that articulates First 5 LA’s vision for using data to advance the strategic plan and reflects organizational priorities</p><p>§\\xa0Leads efforts to determine the most appropriate approaches to address data priorities balancing the need for rigor with feasibility in terms of organizational resources and capacities, and the external context</p><p>§\\xa0Provides consultation and technical oversight on the design and implementation of Data Strategy approaches</p><p>§\\xa0Promotes the accessibility and utilization of data and insights from the Data Strategy to drive system change efforts through a data dashboard, stakeholder conversations and other tools and processes</p><p>§\\xa0Works in collaboration with the Office of Equity, Strategy and Learning to develop, implement and adapt structures, practices and tools to use data on strategic plan progress for organization-wide reflection, knowledge sharing, strategy refinement, and operational excellence</p><p>§\\xa0Works in collaboration with the Office of Equity, Strategy and Learning to develop components of the learning agenda focused on staff capabilities and other competencies critical for implementing and advancing the Data Strategy</p><p>§\\xa0Leads the conceptualization, procurement and management of data-related investments that support the entire organization</p><p>§\\xa0Contributes to the preparation of the budget and long-term financial plan for the Office of Data for Action and assists the Chief Data Officer in the management of resources in accordance with First 5 LA policies and procedures</p><p><strong>Thought Leadership and Promotion of Best Practices in Measurement, Evaluation, and Research</strong></p><p>§\\xa0Provides thought leadership and makes recommendations to First 5 LA leadership on indicators, data sources and technical approaches to assess and monitor progress of First 5 LA’s 2020-2028 Strategic Plan</p><p>§\\xa0Promotes policies and practices that facilitate access to high quality data obtained through primary data collection, grantee and contractor reporting, and external entities</p><p>§\\xa0Makes recommendations and provides technical assistance, resources and tools to teams across the organization on measurement, evaluation, research and other data-related efforts</p><p><strong>Relationship Building with Internal and External Stakeholders</strong></p><p>§\\xa0Establishes and maintains relationships with data owners, data partners and systems change partners with mutual data needs, interests and priorities</p><p>§\\xa0Collaborates with teams across the organization and external stakeholders to identify and prioritize data needs, users and use goals, and to capture, synthesize, and share learnings grounded in those data needs and goals</p><p>§\\xa0Works in collaboration with the Office of Equity Strategy and Learning to promote a culture of strategic learning and knowledge sharing internally and externally to amplify the organization’s impact and effectiveness</p><p>§\\xa0Collaborates with the Office of Communications to explore and implement ideas for effectively communicating about the Data Strategy and sharing learnings to expand the influence and impact of data internally and externally</p><p>§\\xa0Collaborates with the Office of Government Affairs and Public Policy to explore and implement ideas for using data, including parent and community voice, to inform advocacy efforts and policy recommendations</p><p>§\\xa0Designs and facilitates internal and external stakeholder conversations to discuss findings, share insights, build common understanding, identify implications and generate recommendations</p><p>§\\xa0Promotes a culture of strategic learning, knowledge sharing and data use internally and externally to amplify the organization’s impact and effectiveness</p><p>§\\xa0Presents to the First 5 LA Board and other stakeholders, as requested</p><p><strong>\\xa0Staff Supervision and Talent Development </strong></p><p>§\\xa0Facilitates and supports staff in effective communication with internal and external audiences, including, but not limited to, presentations, Commission discussions, key partner meetings, etc.</p><p>§\\xa0Establishes and supports ongoing team development</p><p>§\\xa0Models and guides staff on relevant professional development areas; works with direct reports on professional development and ongoing training, coaches staff on “managing up”</p><p>§\\xa0Monitors staff performance and provides ongoing performance feedback</p><p>§\\xa0Develops, coaches and supervises Team staff consistent with values and competencies required for successful job growth and development</p><p>§\\xa0Advances the organization’s commitment to diversity, equity and inclusion, and elevates a diversity of perspectives</p><p>§\\xa0Adheres to policies and procedures to ensure alignment with State regulations, local ordinances and First 5 LA/First 5 California directives</p><p>§\\xa0Supervises contractors and consultants, as needed</p><p>Other duties and responsibilities may be assigned. The duties and responsibilities listed are designed to provide typical examples of the work performed; not all duties and responsibilities assigned are included here, nor is it expected that all similar positions will be assigned every duty and responsibility.</p><p><strong>QUALIFICATIONS </strong></p><p><strong>Knowledge, Skills &amp; Abilities: </strong></p><p>Organization-wide Competencies</p><p>§\\xa0<strong>Commitment to organizational mission and values:</strong> Mission-driven and self-directed, with a demonstrated passion for First 5 LA’s work to strengthen families and improve child outcomes; strives to model organizational values through daily actions and behaviors</p><p>§\\xa0<strong>Possesses Customer-Focused Mindset:</strong> Is able to identify appropriate and relevant stakeholders; identifies internal and external stakeholders needs (customers); is responsive to stakeholder needs, considers impact when making recommendations</p><p>§\\xa0<strong>Collaborative:</strong> Collaborates with peers to drive results in alignment with organizational and operational goals in support of the organization’s mission; is able to work in cross-functional teams; is able to establish and maintain effective working relationships with co-workers, public officials and the general public</p><p>§\\xa0<strong>Communicates Effectively:</strong> Communicates effectively both written and oral; strong presentation skills; demonstrates ability to develop and deliver relevant and appropriate communications; delivers messages in a direct manner; able to tailor messages appropriately to various audiences</p><p>§\\xa0<strong>Demonstrates Integrity and Judgment:</strong> Follows through on commitments letting others know of his/her true intentions; ensures decision-making or recommendations are fact-based and others understand the decision/recommendation before moving forward; considers the relative costs and benefits of potential actions to choose the most appropriate one</p><p>§\\xa0<strong>Demonstrates Critical Thinking:</strong> Applies critical thinking, logic and reasoning to analyze complex problems and information; identifies relative strengths and weaknesses of options, solutions or approaches</p><p>§\\xa0<strong>Demonstrates Strategic Thinking:</strong> Identifies key issues and relationships relevant to achieving long range goals or vision; develops alternatives based on logical assumptions, facts, available resources, constraints, and organizational values to develop a point of view on a course of action to accomplish goals; develops priorities with the right balance of short and long-term wins</p><p>§\\xa0<strong>Demonstrates Contribution to Diversity, Equity, and Inclusion: </strong>Supports equal and active participation of people and groups with diverse identifies, race, ethnicities, abilities, characteristics, cultures, socio-economic status, opinions, and beliefs; continuously challenges assumptions, and is mindful of unconscious bias, and leverages differences; understands historical and current context and root causes of inequities within society, systems and institutions; values a diversity of perspectives and encourages contributions by all team members<strong>\\xa0</strong></p><p>Job Specific Competencies</p><p>§\\xa0<strong>Content Knowledge:</strong> Deep expertise in measurement, research and evaluation concepts and approaches; understanding of and commitment to culturally relevant measurement, research and evaluation; understanding of the evolving role of evaluation and research in effective grant-making and social change organizations committed to learning, continuous improvement and innovation; keeps abreast of developments and cutting-edge methods and innovations for measurement, evaluation and research and relevant early childhood research developments</p><ul><li><strong>Measurement and Utilization:</strong> Demonstrated ability to conceptualize, implement and adapt measurement, research and evaluation efforts in complex settings in the context of systems change, place-based and organizational improvement efforts; proficiency in social science research design and methods (qualitative and quantitative); able to manipulate, analyze and interpret large data sets including administrative data; able to synthesize large volumes of information to distill key findings, insights and implications; able to communicate (both written and verbally) complex information in an accessible and compelling manner to diverse audiences; able to promote and facilitate data driven planning, decision-making and continuous improvement; able to use visualization tools including dashboards and presentation formats to help others metabolize and use data</li></ul><p>§\\xa0<strong>Project Management:</strong> Works in an organized manner with strong attention to detail; prioritizes and plans work activities; ability to effectively manage overlapping projects and deadlines; displays understanding of how job relates to others; ability to work under pressure, meet deadlines and adjust to changing priorities; uses time efficiently; plans for additional resources; integrates changes smoothly; sets goals and objectives; ability to manage high performance projects; requires minimal supervision; knows how to use technology tools to manage and expedite processes and effectively engage colleagues and external partners; uses resources effectively</p><p>§\\xa0<strong>Relationship Building:</strong>\\xa0Able to interact with and practice deep listening with diverse staff, leadership and external stakeholders to promote trust, collaboration, and partnership between teams and external partners; able to ask strategic questions and identify gaps in reasoning in a non-confrontational manner; able to quickly establish credibility and maintain productive relationships, navigate political sensitivities and encourage open communication</p><p>§\\xa0<strong>Integration and Alignment:</strong> Orients to the whole of the organization and the external context; able to link multiple perspectives, interests, and related processes to reach consensus and develop strategies; understands the interrelationships and is able to connect the dots across major processes, programs, and activities; able to balance team needs and interests with an organization-wide perspective</p><p>§\\xa0<strong>Management of Cross-Functional Teams:</strong> Able to maximize the unique mix of skills and talents each member brings to the table; able to find common ground among team members with diverse perspectives and interests and use negotiation skills to resolve conflict; uses a variety of communication tools for different learning styles; track team progress and recalibrate based on learning</p><p>§\\xa0<strong>Managing People:</strong> Provides direction, establishes clear expectations and gains compliance; takes responsibility for direct reports’ activities; accessible and available to direct reports; develops direct reports’ skills and encourages growth; provides regular performance feedback; encourages open communications; uses negotiation skills to resolve conflict; strong influencing and relationship skills; experience in managing high performance teams</p><p><strong>Experience: </strong></p><p>§\\xa0Minimum of seven years of experience in one or more of the following areas preferred: evaluation, research and analysis in a public agency, health, education, philanthropic foundation, or non-profit organizational environment</p><p>§\\xa0Minimum of four years of staff supervision experience preferred</p><p>§\\xa0Significant experience working in collaboration with colleagues and external partners with diverse racial and ethnic backgrounds, political and religious views, cultural backgrounds, lifestyles, and sexual orientation with demonstrated experience of treating everyone with respect and dignity</p><p><strong>Education: </strong></p><p>§\\xa0Advanced degree from an accredited college or university in a social science, public policy or a related field preferred</p><p><strong>Direct Reports: </strong></p><p>§\\xa0Carries out supervisory responsibilities in accordance with the organization's policies and applicable laws. Responsibilities include interviewing, hiring, and training employees; planning, assigning, and directing work; appraising performance; rewarding and disciplining employees; addressing complaints and resolving problems</p><p><strong>Computer Skills: </strong></p><p>§\\xa0Proficiency in MS Office Suite (Word, Excel, PowerPoint, Outlook)</p><p>§\\xa0Extensive experience using SPSS, SAS or other related statistical software package</p><p>§\\xa0Proficiency in web-based collaboration and/or meeting platforms (e.g., Microsoft Teams, Zoom, Sli-do etc.)</p><p>§\\xa0Ability to use widely supported internet browsers</p><p><strong>Certificates, Licenses and Registrations: </strong></p><p>§\\xa0Valid California Class C Driver License or the ability to utilize an alternative method of transportation when needed to carry out job-related essential functions</p><p>§\\xa0Valid automobile liability insurance</p><p><strong>Travel Requirements: </strong></p><p>§\\xa0This position requires travel locally, statewide and nationally as needed</p><p><strong>PHYSICAL REQUIREMENTS / WORK ENVIRONMENT </strong></p><p><strong>Physical Demands: </strong></p><p><em>The physical demands described here are representative of those that must be met by an employee to successfully perform the essential functions of this job. Reasonable accommodations may be made to enable individuals with disabilities to perform the essential functions. </em></p><p>The employee will sit, talk, hear and use hands up to 2/3 of the time. The employee will stand and walk up to 1/3 of the time. The employee is routinely required to carry and/or lift up to 10 pounds.</p><p><strong>Work Environment: </strong></p><p><em>The work environment characteristics described here are representative of those an employee encounters while performing the essential functions of this job. Reasonable accommodations may be made to enable individuals with disabilities to perform the essential functions. </em></p><p>The noise level in the work environment is usually moderate.</p>\", 'employmentType': 'FULL_TIME', 'hiringOrganization': {'@type': 'Organization', 'name': 'First 5 LA', 'sameAs': 'https://www.idealist.org/en/nonprofit/2f2dc979cb394d51ba47dd5f22200fbd-first-5-la-los-angeles'}, 'identifier': {'name': 'First 5 LA', 'value': 'd221681ca0b945d7b4cf8c4aac8bea5c'}, 'title': 'Data Strategy Manager', 'validThrough': '2021-05-29T22:44:55.930587', 'jobLocation': {'@type': 'Place', 'address': {'@type': 'PostalAddress', 'addressLocality': 'Los Angeles', 'addressRegion': 'CA', 'addressCountry': 'US'}}, 'baseSalary': {'@type': 'MonetaryAmount', 'currency': 'USD', 'value': {'minValue': '78800', 'maxValue': '118200'}}, 'jobLocationType': 'TELECOMMUTE', 'applicantLocationRequirements': {'@type': 'Country', 'name': 'US'}}\n"
     ]
    }
   ],
   "source": [
    "#Job title and description are stored in json within html file; \n",
    "#here I scrape the script with the type that has the needed info, and then choose index 0 because \n",
    "#there are 2 scripts that share the same type; then I load the data in a json file\n",
    "\n",
    "script = soup.find_all('script', type='application/ld+json')[0].string.strip()\n",
    "#print(script)\n",
    "\n",
    "data = json.loads(script)\n",
    "\n",
    "print(data)"
   ]
  },
  {
   "cell_type": "markdown",
   "id": "personal-conclusion",
   "metadata": {},
   "source": [
    "Now I need to repeat this process for all urls and store into a json of jsons..."
   ]
  },
  {
   "cell_type": "markdown",
   "id": "previous-tiger",
   "metadata": {},
   "source": [
    "NOTES\n",
    "\n",
    "data_science_results = driver.find_elements_by_class_name('Box__BaseBox-sc-1wooqli-0 gTTavS')\n",
    "\n",
    "data_science_results_list = []\n",
    "\n",
    "for result in data_science_results:\n",
    "    job_title = result.find_elements_by_class_name('SearchHit__RouterLink-sc-25tu86-13 SearchHit__ListingRouterLink-sc-25tu86-18 ePzwWl').text\n",
    "    result_item = {\n",
    "        'job_title': job_title\n",
    "    }\n",
    "    data_science_results_list.append(result_item)\n",
    "    \n",
    "idealist_df = pd.DataFrame(data_science_results_list)"
   ]
  },
  {
   "cell_type": "markdown",
   "id": "figured-evolution",
   "metadata": {},
   "source": [
    "NOTES\n",
    "\n",
    "xpath_lists = []\n",
    "#temp = []\n",
    "\n",
    "nums = list(range(2, 22))\n",
    "  \n",
    "for num in nums:\n",
    "    item = '//*[@id=\"results\"]/div/div/div[2]/div[' + str(num) + ']/div/div/div/div[1]/div[2]/div/h4/a'\n",
    "    xpath_lists.append(item)\n",
    "    \n",
    "#print(xpath_lists)\n",
    "\n",
    "data_science_results = []\n",
    "\n",
    "for elem in xpath_lists:\n",
    "    job = driver.find_element_by_xpath(elem).text\n",
    "    result_item = {\n",
    "        'job': job\n",
    "    }\n",
    "    data_science_results.append(result_item)\n",
    "    \n",
    "idealist_df = pd.DataFrame(data_science_results)\n",
    "\n",
    "print(idealist_df)"
   ]
  },
  {
   "cell_type": "code",
   "execution_count": 31,
   "id": "eastern-pennsylvania",
   "metadata": {},
   "outputs": [
    {
     "name": "stdout",
     "output_type": "stream",
     "text": [
      "Data Science Administrator\n"
     ]
    }
   ],
   "source": []
  },
  {
   "cell_type": "code",
   "execution_count": 83,
   "id": "authorized-actress",
   "metadata": {},
   "outputs": [],
   "source": [
    "driver.quit()"
   ]
  }
 ],
 "metadata": {
  "kernelspec": {
   "display_name": "Python 3",
   "language": "python",
   "name": "python3"
  },
  "language_info": {
   "codemirror_mode": {
    "name": "ipython",
    "version": 3
   },
   "file_extension": ".py",
   "mimetype": "text/x-python",
   "name": "python",
   "nbconvert_exporter": "python",
   "pygments_lexer": "ipython3",
   "version": "3.7.7"
  }
 },
 "nbformat": 4,
 "nbformat_minor": 5
}
