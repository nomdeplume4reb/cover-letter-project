{
 "cells": [
  {
   "cell_type": "markdown",
   "id": "amino-indian",
   "metadata": {},
   "source": [
    "# Automating Writing Cover Letters #\n",
    "\n",
    "## Find and Explore Data ##\n",
    "\n",
    "#### Exploring job postings from idealist.org ####"
   ]
  },
  {
   "cell_type": "code",
   "execution_count": null,
   "id": "suspended-stationery",
   "metadata": {},
   "outputs": [],
   "source": [
    "from selenium import webdriver\n",
    "from selenium.webdriver.common.keys import Keys\n",
    "import pandas as pd"
   ]
  },
  {
   "cell_type": "code",
   "execution_count": 58,
   "id": "demographic-islam",
   "metadata": {},
   "outputs": [],
   "source": [
    "idealist_url = \"https://www.idealist.org/en/jobs?q=data%20science&searchMode=true\"\n",
    "\n",
    "driver = webdriver.Chrome(\"C:\\\\Users\\\\rache\\\\Downloads\\\\chromedriver_win32\\\\chromedriver.exe\")\n",
    "\n",
    "driver.get(idealist_url)"
   ]
  },
  {
   "cell_type": "code",
   "execution_count": 64,
   "id": "billion-surrey",
   "metadata": {},
   "outputs": [],
   "source": [
    "## clear location data from search\n",
    "#driver.find_element_by_xpath('//*[@id=\"layout-root\"]/div[1]/div[4]/div/div/div/div[2]/form/div[2]/div/button').click()\n",
    "\n",
    "data_science_results = driver.find_elements_by_class_name('Box__BaseBox-sc-1wooqli-0 gTTavS')\n",
    "\n",
    "data_science_results_list = []\n",
    "\n",
    "for result in data_science_results:\n",
    "    job_title = result.find_elements_by_class_name('SearchHit__RouterLink-sc-25tu86-13 SearchHit__ListingRouterLink-sc-25tu86-18 ePzwWl').text\n",
    "    result_item = {\n",
    "        'job_title': job_title\n",
    "    }\n",
    "    data_science_results_list.append(result_item)\n",
    "    \n",
    "idealist_df = pd.DataFrame(data_science_results_list)"
   ]
  },
  {
   "cell_type": "code",
   "execution_count": 65,
   "id": "broke-lecture",
   "metadata": {},
   "outputs": [
    {
     "name": "stdout",
     "output_type": "stream",
     "text": [
      "Empty DataFrame\n",
      "Columns: []\n",
      "Index: []\n"
     ]
    }
   ],
   "source": [
    "print(idealist_df)"
   ]
  },
  {
   "cell_type": "code",
   "execution_count": null,
   "id": "catholic-holocaust",
   "metadata": {},
   "outputs": [],
   "source": [
    "#results > div > div > div.Box__BaseBox-sc-1wooqli-0.iuHlOF > div:nth-child(2)\n",
    "    //*[@id=\"results\"]/div/div/div[2]/div[2]/div\n",
    "#results > div > div > div.Box__BaseBox-sc-1wooqli-0.iuHlOF > div:nth-child(3)\n",
    "    //*[@id=\"results\"]/div/div/div[2]/div[3]/div"
   ]
  },
  {
   "cell_type": "code",
   "execution_count": 83,
   "id": "advisory-exercise",
   "metadata": {},
   "outputs": [
    {
     "name": "stdout",
     "output_type": "stream",
     "text": [
      "//*[@id=\"results\"]/div/div/div[2]/div[3]/div\n"
     ]
    }
   ],
   "source": [
    "xpath_lists = []\n",
    "\n",
    "nums = list(range(2, 5))\n",
    "\n",
    "for num in nums:\n",
    "    item = '//*[@id=\"results\"]/div/div/div[2]/div[' + str(num) + ']/div'\n",
    "    xpath_lists.append(item)\n",
    "    \n",
    "print(xpath_lists[1])"
   ]
  },
  {
   "cell_type": "code",
   "execution_count": 84,
   "id": "significant-bradford",
   "metadata": {},
   "outputs": [
    {
     "name": "stdout",
     "output_type": "stream",
     "text": [
      "Empty DataFrame\n",
      "Columns: []\n",
      "Index: []\n"
     ]
    }
   ],
   "source": [
    "data_science_results = []\n",
    "\n",
    "for elem in xpath_lists:\n",
    "    job = driver.find_element_by_xpath(str(elem)).text\n",
    "    result_item = {\n",
    "        'job': job\n",
    "    }\n",
    "    data_science_results.append(result_item)\n",
    "    \n",
    "idealist_df = pd.DataFrame(data_science_results_list)\n",
    "\n",
    "print(idealist_df)"
   ]
  },
  {
   "cell_type": "code",
   "execution_count": 82,
   "id": "eastern-pennsylvania",
   "metadata": {},
   "outputs": [
    {
     "name": "stdout",
     "output_type": "stream",
     "text": [
      "Agricultural and Climate Data Scientist\n",
      "The Alliance Bioversity International/International Center for Tropical Agriculture - CIAT\n",
      "TEMPORARILY REMOTENairobi, Nairobi County, KenyaFull Time\n",
      "Posted 1 day ago\n",
      "Apply\n",
      "Save\n"
     ]
    }
   ],
   "source": [
    "#test = driver.find_element_by_id('results').text\n",
    "\n",
    "test = driver.find_element_by_xpath('//*[@id=\"results\"]/div/div/div[2]/div[4]/div').text\n",
    "\n",
    "print(test)"
   ]
  },
  {
   "cell_type": "code",
   "execution_count": 85,
   "id": "authorized-actress",
   "metadata": {},
   "outputs": [],
   "source": [
    "driver.quit()"
   ]
  },
  {
   "cell_type": "code",
   "execution_count": null,
   "id": "opposite-digit",
   "metadata": {},
   "outputs": [],
   "source": []
  }
 ],
 "metadata": {
  "kernelspec": {
   "display_name": "Python 3",
   "language": "python",
   "name": "python3"
  },
  "language_info": {
   "codemirror_mode": {
    "name": "ipython",
    "version": 3
   },
   "file_extension": ".py",
   "mimetype": "text/x-python",
   "name": "python",
   "nbconvert_exporter": "python",
   "pygments_lexer": "ipython3",
   "version": "3.7.7"
  }
 },
 "nbformat": 4,
 "nbformat_minor": 5
}
